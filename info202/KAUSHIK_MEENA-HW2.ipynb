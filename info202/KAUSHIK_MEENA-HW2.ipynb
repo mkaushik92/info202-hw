{
 "cells": [
  {
   "cell_type": "markdown",
   "metadata": {},
   "source": [
    "# HW2 - Develop a Categorization System#"
   ]
  },
  {
   "cell_type": "markdown",
   "metadata": {},
   "source": [
    "This problem set is meant to help you familiarize yourself with Python and Pandas. \n",
    "\n",
    "### Before You Start\n",
    "For this problem set, you should download INF0202-HW2.ipynb from bCourses. Create a local copy of the notebook and rename it LASTNAME_FIRSTNAME-HW2.ipynb. Then edit your renamed file directly in your browser by typing:\n",
    "```\n",
    "jupyter notebook <name_of_downloaded_file>\n",
    "```\n",
    "\n",
    "Make sure the following libraries load correctly (hit Shift-Enter)."
   ]
  },
  {
   "cell_type": "code",
   "execution_count": 1,
   "metadata": {},
   "outputs": [
    {
     "name": "stdout",
     "output_type": "stream",
     "text": [
      "IPython version:       6.4.0 (need at least 1.0)\n",
      "Pandas version:       0.23.0 (need at least 0.11.0)\n",
      "Maplotlib version:     2.2.2 (need at least 1.2.1)\n"
     ]
    }
   ],
   "source": [
    "#IPython is what you are using now to run the notebook\n",
    "import IPython\n",
    "print(\"IPython version:      %6.6s (need at least 1.0)\" % IPython.__version__)\n",
    "\n",
    "# Pandas makes working with data tables easier\n",
    "import pandas as pd\n",
    "print(\"Pandas version:       %6.6s (need at least 0.11.0)\" % pd.__version__)\n",
    "\n",
    "# Module for plotting\n",
    "import matplotlib as plt\n",
    "%matplotlib inline\n",
    "print(\"Maplotlib version:    %6.6s (need at least 1.2.1)\" % plt.__version__)\n",
    "\n",
    "# A tool we'll use to aid our data exploration\n",
    "import itertools"
   ]
  },
  {
   "cell_type": "markdown",
   "metadata": {},
   "source": [
    "### Working in a group?\n",
    "List the names of other students with whom you worked on this problem set: Mu-Ti + Paul"
   ]
  },
  {
   "cell_type": "markdown",
   "metadata": {},
   "source": [
    "### Introduction to the assignment\n",
    "\n",
    "For this assignment and upcoming assignments, you will be using an IMDB Movie Dataset (download from bCourses). \n",
    "\n",
    "Use the following commands to load the dataset:"
   ]
  },
  {
   "cell_type": "code",
   "execution_count": 2,
   "metadata": {},
   "outputs": [],
   "source": [
    "#load dataset\n",
    "imdb = pd.read_csv(\"IMDB_movies.csv\", low_memory=False, encoding = \"ISO-8859-1\")\n",
    "\n",
    "#subset to only first 100 movies\n",
    "imdb = imdb[:100]"
   ]
  },
  {
   "cell_type": "markdown",
   "metadata": {},
   "source": [
    "### Understanding the data"
   ]
  },
  {
   "cell_type": "markdown",
   "metadata": {},
   "source": [
    "Let's take a look at the dataset with some lightweight exploratory data analysis."
   ]
  },
  {
   "cell_type": "code",
   "execution_count": 3,
   "metadata": {},
   "outputs": [
    {
     "data": {
      "text/html": [
       "<div>\n",
       "<style scoped>\n",
       "    .dataframe tbody tr th:only-of-type {\n",
       "        vertical-align: middle;\n",
       "    }\n",
       "\n",
       "    .dataframe tbody tr th {\n",
       "        vertical-align: top;\n",
       "    }\n",
       "\n",
       "    .dataframe thead th {\n",
       "        text-align: right;\n",
       "    }\n",
       "</style>\n",
       "<table border=\"1\" class=\"dataframe\">\n",
       "  <thead>\n",
       "    <tr style=\"text-align: right;\">\n",
       "      <th></th>\n",
       "      <th>Rank</th>\n",
       "      <th>Title</th>\n",
       "      <th>Genre</th>\n",
       "      <th>Director</th>\n",
       "      <th>Actors</th>\n",
       "      <th>Year</th>\n",
       "      <th>Runtime (Minutes)</th>\n",
       "      <th>Rating</th>\n",
       "      <th>Votes</th>\n",
       "      <th>Revenue (Millions)</th>\n",
       "      <th>Metascore</th>\n",
       "    </tr>\n",
       "  </thead>\n",
       "  <tbody>\n",
       "    <tr>\n",
       "      <th>0</th>\n",
       "      <td>1</td>\n",
       "      <td>Guardians of the Galaxy</td>\n",
       "      <td>Action,Adventure,Sci-Fi</td>\n",
       "      <td>James Gunn</td>\n",
       "      <td>Chris Pratt, Vin Diesel, Bradley Cooper, Zoe S...</td>\n",
       "      <td>2014</td>\n",
       "      <td>121</td>\n",
       "      <td>8.1</td>\n",
       "      <td>757074</td>\n",
       "      <td>333.13</td>\n",
       "      <td>76.0</td>\n",
       "    </tr>\n",
       "    <tr>\n",
       "      <th>1</th>\n",
       "      <td>2</td>\n",
       "      <td>Prometheus</td>\n",
       "      <td>Adventure,Mystery,Sci-Fi</td>\n",
       "      <td>Ridley Scott</td>\n",
       "      <td>Noomi Rapace, Logan Marshall-Green, Michael Fa...</td>\n",
       "      <td>2012</td>\n",
       "      <td>124</td>\n",
       "      <td>7.0</td>\n",
       "      <td>485820</td>\n",
       "      <td>126.46</td>\n",
       "      <td>65.0</td>\n",
       "    </tr>\n",
       "    <tr>\n",
       "      <th>2</th>\n",
       "      <td>3</td>\n",
       "      <td>Split</td>\n",
       "      <td>Horror,Thriller</td>\n",
       "      <td>M. Night Shyamalan</td>\n",
       "      <td>James McAvoy, Anya Taylor-Joy, Haley Lu Richar...</td>\n",
       "      <td>2016</td>\n",
       "      <td>117</td>\n",
       "      <td>7.3</td>\n",
       "      <td>157606</td>\n",
       "      <td>138.12</td>\n",
       "      <td>62.0</td>\n",
       "    </tr>\n",
       "    <tr>\n",
       "      <th>3</th>\n",
       "      <td>4</td>\n",
       "      <td>Sing</td>\n",
       "      <td>Animation,Comedy,Family</td>\n",
       "      <td>Christophe Lourdelet</td>\n",
       "      <td>Matthew McConaughey,Reese Witherspoon, Seth Ma...</td>\n",
       "      <td>2016</td>\n",
       "      <td>108</td>\n",
       "      <td>7.2</td>\n",
       "      <td>60545</td>\n",
       "      <td>270.32</td>\n",
       "      <td>59.0</td>\n",
       "    </tr>\n",
       "    <tr>\n",
       "      <th>4</th>\n",
       "      <td>5</td>\n",
       "      <td>Suicide Squad</td>\n",
       "      <td>Action,Adventure,Fantasy</td>\n",
       "      <td>David Ayer</td>\n",
       "      <td>Will Smith, Jared Leto, Margot Robbie, Viola D...</td>\n",
       "      <td>2016</td>\n",
       "      <td>123</td>\n",
       "      <td>6.2</td>\n",
       "      <td>393727</td>\n",
       "      <td>325.02</td>\n",
       "      <td>40.0</td>\n",
       "    </tr>\n",
       "  </tbody>\n",
       "</table>\n",
       "</div>"
      ],
      "text/plain": [
       "   Rank                    Title                     Genre  \\\n",
       "0     1  Guardians of the Galaxy   Action,Adventure,Sci-Fi   \n",
       "1     2               Prometheus  Adventure,Mystery,Sci-Fi   \n",
       "2     3                    Split           Horror,Thriller   \n",
       "3     4                     Sing   Animation,Comedy,Family   \n",
       "4     5            Suicide Squad  Action,Adventure,Fantasy   \n",
       "\n",
       "               Director                                             Actors  \\\n",
       "0            James Gunn  Chris Pratt, Vin Diesel, Bradley Cooper, Zoe S...   \n",
       "1          Ridley Scott  Noomi Rapace, Logan Marshall-Green, Michael Fa...   \n",
       "2    M. Night Shyamalan  James McAvoy, Anya Taylor-Joy, Haley Lu Richar...   \n",
       "3  Christophe Lourdelet  Matthew McConaughey,Reese Witherspoon, Seth Ma...   \n",
       "4            David Ayer  Will Smith, Jared Leto, Margot Robbie, Viola D...   \n",
       "\n",
       "   Year  Runtime (Minutes)  Rating   Votes  Revenue (Millions)  Metascore  \n",
       "0  2014                121     8.1  757074              333.13       76.0  \n",
       "1  2012                124     7.0  485820              126.46       65.0  \n",
       "2  2016                117     7.3  157606              138.12       62.0  \n",
       "3  2016                108     7.2   60545              270.32       59.0  \n",
       "4  2016                123     6.2  393727              325.02       40.0  "
      ]
     },
     "execution_count": 3,
     "metadata": {},
     "output_type": "execute_result"
    }
   ],
   "source": [
    "imdb.head()"
   ]
  },
  {
   "cell_type": "markdown",
   "metadata": {},
   "source": [
    "Are there any nulls we need to watch out for? Yes"
   ]
  },
  {
   "cell_type": "code",
   "execution_count": 5,
   "metadata": {},
   "outputs": [
    {
     "name": "stdout",
     "output_type": "stream",
     "text": [
      "<class 'pandas.core.frame.DataFrame'>\n",
      "RangeIndex: 100 entries, 0 to 99\n",
      "Data columns (total 11 columns):\n",
      "Rank                  100 non-null int64\n",
      "Title                 100 non-null object\n",
      "Genre                 100 non-null object\n",
      "Director              100 non-null object\n",
      "Actors                100 non-null object\n",
      "Year                  100 non-null int64\n",
      "Runtime (Minutes)     100 non-null int64\n",
      "Rating                100 non-null float64\n",
      "Votes                 100 non-null int64\n",
      "Revenue (Millions)    91 non-null float64\n",
      "Metascore             94 non-null float64\n",
      "dtypes: float64(3), int64(4), object(4)\n",
      "memory usage: 8.7+ KB\n"
     ]
    }
   ],
   "source": [
    "imdb.info()"
   ]
  },
  {
   "cell_type": "markdown",
   "metadata": {},
   "source": [
    "Since most of these films in the data set are part of multiple genres, let's get a list of entirely unique genres, without repeats, to see how many genres we are working with."
   ]
  },
  {
   "cell_type": "code",
   "execution_count": 79,
   "metadata": {},
   "outputs": [
    {
     "data": {
      "text/plain": [
       "{'Action',\n",
       " 'Adventure',\n",
       " 'Animation',\n",
       " 'Biography',\n",
       " 'Comedy',\n",
       " 'Crime',\n",
       " 'Drama',\n",
       " 'Family',\n",
       " 'Fantasy',\n",
       " 'History',\n",
       " 'Horror',\n",
       " 'Music',\n",
       " 'Musical',\n",
       " 'Mystery',\n",
       " 'Romance',\n",
       " 'Sci-Fi',\n",
       " 'Sport',\n",
       " 'Thriller',\n",
       " 'War',\n",
       " 'Western'}"
      ]
     },
     "execution_count": 79,
     "metadata": {},
     "output_type": "execute_result"
    }
   ],
   "source": [
    "unique_genres = imdb['Genre'].unique()\n",
    "individual_genres = []\n",
    "\n",
    "#iterate through, get each combination\n",
    "for genre in unique_genres:\n",
    "    individual_genres.append(genre.split(','))\n",
    "\n",
    "#get individual genres per row\n",
    "individual_genres = list(itertools.chain.from_iterable(individual_genres))\n",
    "\n",
    "#remove duplicates\n",
    "individual_genres = set(individual_genres)\n",
    "\n",
    "individual_genres"
   ]
  },
  {
   "cell_type": "markdown",
   "metadata": {},
   "source": [
    "### Brainstorm a Categorization System"
   ]
  },
  {
   "cell_type": "markdown",
   "metadata": {},
   "source": [
    "Categories provide the framework for organizing resources. Classification assigns individual resources to categories. When humans classify, we have rationales for how we assign resources to categories. These criteria are in part how we carve up the categories themsevles. The \"principles\" for defining categories (enumeration, properties, similarity, cultural vs individual vs institutional) are embodied in the classifications that use these principles. \n",
    "\n",
    "#### Your task is to create 3 new categories (columns) for this dataset. Before beginning, please outline responses to the questions below. \n",
    "1. What is the purpose of these categories? How might each of these categories be used in an information retrieval task?\n",
    "2. What \"principles\" will you be using to define categories? Briefly explain why you've chosen these principles to define your categories. \n",
    "3. Are the categories at a consistent level of abstraction and granularity? Briefly explain your choice of abstraction and granularity for each category.\n",
    "4. What are the data types of your categories? Ordinal? Categorical? Continuous? Other? Briefly explain your choice of data type for each category. "
   ]
  },
  {
   "cell_type": "markdown",
   "metadata": {
    "collapsed": true
   },
   "source": [
    "# question 1\n",
    "\n",
    "Category 1 -- Movies with Chris Pratt\n",
    "Purpose: Provide a filtering system for movies based on a certain actor. In this example, a person can easily see which movies have Chris Pratt in it.  \n",
    "\n",
    "Category 2 -- Movies over 2 hours \n",
    "Purpose: Provide another way to filter movies based on length, and more specifically, under or over 2 hours. In this example, a person may be seeing a shorter or longer movie, and can refer to this category to help guide the decision. \n",
    "\n",
    "Category 3 -- Overall Rating\n",
    "Purpose: Calculate the average score based on the (user) rating and the Metascore to easily determine overall movie quality. Currently, the (user) rating differs from the Metascore for most movies, requiring people to compare both and make a determination."
   ]
  },
  {
   "cell_type": "markdown",
   "metadata": {
    "collapsed": true
   },
   "source": [
    "# question 2\n",
    "\n",
    "I will be using the classical and probabilistic category principles. Two of the categories I am including (movies with Chris Pratt and movies over 2 hours) follow the classical category definition; they can have large numbers of category members but have clear boundaries defined by necessary and sufficient properties (in other words, they either do or do not have Chris Pratt in it, or either are or are not over 2 hours). \n",
    "\n",
    "Overall rating is an example of a probabilistic category because its properties can vary; what constitutes a strong rating is not a clear and specific definition. Also, while I am suggesting the overall rating gives equal weight to the viewer and the critic, there can be an argument that one should weigh more than the other. "
   ]
  },
  {
   "cell_type": "markdown",
   "metadata": {
    "collapsed": true
   },
   "source": [
    "# question 3\n",
    "\n",
    "For each category, I focused on granularity by referring to the internal parts of the resource (movie). The first refers to a specific actor, Chris Pratt, which is a precise category (either Chris Pratt is in it, or not), but there is room for further precision (genre, lead vs supporting actor, etc.). The second refers to the runtime, which is a little less precise than the current runtime(minutes) category because it simply returns a binary regarding if the movie is over 2 hours, rather than specific information about movie length. The last refers to the movie's ratings, which again is a little less precis than refering to the individual rating and Metascore categories, but offers a simpler and slightly more high-level way to view this information. "
   ]
  },
  {
   "cell_type": "markdown",
   "metadata": {
    "collapsed": true
   },
   "source": [
    "# question 4\n",
    "\n",
    "The first two categories (Chris Pratt and movie length) both utilize binary data types (YES/NO). I chose this data type to provide an easy and immediate filtering mechanism. \n",
    "\n",
    "The third category (overall rating) utilizes a continuous data type to preserve the accuracy and specificity of the rating value (e.g., 92.4 rather than 92). "
   ]
  },
  {
   "cell_type": "markdown",
   "metadata": {},
   "source": [
    "### Develop a Categorization System"
   ]
  },
  {
   "cell_type": "markdown",
   "metadata": {},
   "source": [
    "Using the data contained in the dataframe `imdb` created above, create three new categories and append them as new columns to the dataframe `imdb`. Becuase there are only 100 rows, you can either assign categories by hand or use a function to do so.\n",
    "_Hint: if using a function, it may be useful to use the function pandas.DataFrame.apply._"
   ]
  },
  {
   "cell_type": "code",
   "execution_count": 75,
   "metadata": {},
   "outputs": [],
   "source": [
    "# your code here - category 1\n",
    "\n",
    "def chris_pratt(actor_list):\n",
    "    if \"Chris Pratt\" in actor_list:\n",
    "        return(\"Yes\")\n",
    "    else:\n",
    "        return(\"No\")\n",
    "imdb['Movie with Chris Pratt'] = imdb['Actors'].apply(chris_pratt)\n"
   ]
  },
  {
   "cell_type": "code",
   "execution_count": 76,
   "metadata": {},
   "outputs": [],
   "source": [
    "# your code here - category 2\n",
    "\n",
    "def long_movies(runtime):\n",
    "    if runtime > 120:\n",
    "        return(\"Yes\")\n",
    "    else:\n",
    "        return(\"No\")\n",
    "imdb['Longer than 2 hours'] = imdb['Runtime (Minutes)'].apply(long_movies)"
   ]
  },
  {
   "cell_type": "code",
   "execution_count": 77,
   "metadata": {},
   "outputs": [],
   "source": [
    "# your code here - category 3\n",
    "\n",
    "def overall_rating(rating, score):\n",
    "    value = ((rating*10) + score) / 2 \n",
    "    return(value)\n",
    "imdb['Overall Rating'] = imdb.apply(lambda row: overall_rating(row['Rating'], row['Metascore']), axis=1)\n"
   ]
  },
  {
   "cell_type": "markdown",
   "metadata": {},
   "source": [
    "### Display Final Categorization System"
   ]
  },
  {
   "cell_type": "markdown",
   "metadata": {},
   "source": [
    "Calling \"imdb.head\" should result in the full dataset, with three additional categories created. "
   ]
  },
  {
   "cell_type": "code",
   "execution_count": 78,
   "metadata": {},
   "outputs": [
    {
     "data": {
      "text/html": [
       "<div>\n",
       "<style scoped>\n",
       "    .dataframe tbody tr th:only-of-type {\n",
       "        vertical-align: middle;\n",
       "    }\n",
       "\n",
       "    .dataframe tbody tr th {\n",
       "        vertical-align: top;\n",
       "    }\n",
       "\n",
       "    .dataframe thead th {\n",
       "        text-align: right;\n",
       "    }\n",
       "</style>\n",
       "<table border=\"1\" class=\"dataframe\">\n",
       "  <thead>\n",
       "    <tr style=\"text-align: right;\">\n",
       "      <th></th>\n",
       "      <th>Rank</th>\n",
       "      <th>Title</th>\n",
       "      <th>Genre</th>\n",
       "      <th>Director</th>\n",
       "      <th>Actors</th>\n",
       "      <th>Year</th>\n",
       "      <th>Runtime (Minutes)</th>\n",
       "      <th>Rating</th>\n",
       "      <th>Votes</th>\n",
       "      <th>Revenue (Millions)</th>\n",
       "      <th>Metascore</th>\n",
       "      <th>Movie with Chris Pratt</th>\n",
       "      <th>Longer than 2 hours</th>\n",
       "      <th>Average Rating</th>\n",
       "      <th>Overall Rating</th>\n",
       "    </tr>\n",
       "  </thead>\n",
       "  <tbody>\n",
       "    <tr>\n",
       "      <th>0</th>\n",
       "      <td>1</td>\n",
       "      <td>Guardians of the Galaxy</td>\n",
       "      <td>Action,Adventure,Sci-Fi</td>\n",
       "      <td>James Gunn</td>\n",
       "      <td>Chris Pratt, Vin Diesel, Bradley Cooper, Zoe S...</td>\n",
       "      <td>2014</td>\n",
       "      <td>121</td>\n",
       "      <td>8.1</td>\n",
       "      <td>757074</td>\n",
       "      <td>333.13</td>\n",
       "      <td>76.0</td>\n",
       "      <td>Yes</td>\n",
       "      <td>Yes</td>\n",
       "      <td>78.5</td>\n",
       "      <td>78.5</td>\n",
       "    </tr>\n",
       "    <tr>\n",
       "      <th>1</th>\n",
       "      <td>2</td>\n",
       "      <td>Prometheus</td>\n",
       "      <td>Adventure,Mystery,Sci-Fi</td>\n",
       "      <td>Ridley Scott</td>\n",
       "      <td>Noomi Rapace, Logan Marshall-Green, Michael Fa...</td>\n",
       "      <td>2012</td>\n",
       "      <td>124</td>\n",
       "      <td>7.0</td>\n",
       "      <td>485820</td>\n",
       "      <td>126.46</td>\n",
       "      <td>65.0</td>\n",
       "      <td>No</td>\n",
       "      <td>Yes</td>\n",
       "      <td>67.5</td>\n",
       "      <td>67.5</td>\n",
       "    </tr>\n",
       "    <tr>\n",
       "      <th>2</th>\n",
       "      <td>3</td>\n",
       "      <td>Split</td>\n",
       "      <td>Horror,Thriller</td>\n",
       "      <td>M. Night Shyamalan</td>\n",
       "      <td>James McAvoy, Anya Taylor-Joy, Haley Lu Richar...</td>\n",
       "      <td>2016</td>\n",
       "      <td>117</td>\n",
       "      <td>7.3</td>\n",
       "      <td>157606</td>\n",
       "      <td>138.12</td>\n",
       "      <td>62.0</td>\n",
       "      <td>No</td>\n",
       "      <td>No</td>\n",
       "      <td>67.5</td>\n",
       "      <td>67.5</td>\n",
       "    </tr>\n",
       "    <tr>\n",
       "      <th>3</th>\n",
       "      <td>4</td>\n",
       "      <td>Sing</td>\n",
       "      <td>Animation,Comedy,Family</td>\n",
       "      <td>Christophe Lourdelet</td>\n",
       "      <td>Matthew McConaughey,Reese Witherspoon, Seth Ma...</td>\n",
       "      <td>2016</td>\n",
       "      <td>108</td>\n",
       "      <td>7.2</td>\n",
       "      <td>60545</td>\n",
       "      <td>270.32</td>\n",
       "      <td>59.0</td>\n",
       "      <td>No</td>\n",
       "      <td>No</td>\n",
       "      <td>65.5</td>\n",
       "      <td>65.5</td>\n",
       "    </tr>\n",
       "    <tr>\n",
       "      <th>4</th>\n",
       "      <td>5</td>\n",
       "      <td>Suicide Squad</td>\n",
       "      <td>Action,Adventure,Fantasy</td>\n",
       "      <td>David Ayer</td>\n",
       "      <td>Will Smith, Jared Leto, Margot Robbie, Viola D...</td>\n",
       "      <td>2016</td>\n",
       "      <td>123</td>\n",
       "      <td>6.2</td>\n",
       "      <td>393727</td>\n",
       "      <td>325.02</td>\n",
       "      <td>40.0</td>\n",
       "      <td>No</td>\n",
       "      <td>Yes</td>\n",
       "      <td>51.0</td>\n",
       "      <td>51.0</td>\n",
       "    </tr>\n",
       "  </tbody>\n",
       "</table>\n",
       "</div>"
      ],
      "text/plain": [
       "   Rank                    Title                     Genre  \\\n",
       "0     1  Guardians of the Galaxy   Action,Adventure,Sci-Fi   \n",
       "1     2               Prometheus  Adventure,Mystery,Sci-Fi   \n",
       "2     3                    Split           Horror,Thriller   \n",
       "3     4                     Sing   Animation,Comedy,Family   \n",
       "4     5            Suicide Squad  Action,Adventure,Fantasy   \n",
       "\n",
       "               Director                                             Actors  \\\n",
       "0            James Gunn  Chris Pratt, Vin Diesel, Bradley Cooper, Zoe S...   \n",
       "1          Ridley Scott  Noomi Rapace, Logan Marshall-Green, Michael Fa...   \n",
       "2    M. Night Shyamalan  James McAvoy, Anya Taylor-Joy, Haley Lu Richar...   \n",
       "3  Christophe Lourdelet  Matthew McConaughey,Reese Witherspoon, Seth Ma...   \n",
       "4            David Ayer  Will Smith, Jared Leto, Margot Robbie, Viola D...   \n",
       "\n",
       "   Year  Runtime (Minutes)  Rating   Votes  Revenue (Millions)  Metascore  \\\n",
       "0  2014                121     8.1  757074              333.13       76.0   \n",
       "1  2012                124     7.0  485820              126.46       65.0   \n",
       "2  2016                117     7.3  157606              138.12       62.0   \n",
       "3  2016                108     7.2   60545              270.32       59.0   \n",
       "4  2016                123     6.2  393727              325.02       40.0   \n",
       "\n",
       "  Movie with Chris Pratt Longer than 2 hours  Average Rating  Overall Rating  \n",
       "0                    Yes                 Yes            78.5            78.5  \n",
       "1                     No                 Yes            67.5            67.5  \n",
       "2                     No                  No            67.5            67.5  \n",
       "3                     No                  No            65.5            65.5  \n",
       "4                     No                 Yes            51.0            51.0  "
      ]
     },
     "execution_count": 78,
     "metadata": {},
     "output_type": "execute_result"
    }
   ],
   "source": [
    "imdb.head()"
   ]
  },
  {
   "cell_type": "code",
   "execution_count": null,
   "metadata": {
    "collapsed": true
   },
   "outputs": [],
   "source": []
  }
 ],
 "metadata": {
  "kernelspec": {
   "display_name": "Python 3",
   "language": "python",
   "name": "python3"
  },
  "language_info": {
   "codemirror_mode": {
    "name": "ipython",
    "version": 3
   },
   "file_extension": ".py",
   "mimetype": "text/x-python",
   "name": "python",
   "nbconvert_exporter": "python",
   "pygments_lexer": "ipython3",
   "version": "3.6.5"
  }
 },
 "nbformat": 4,
 "nbformat_minor": 2
}
